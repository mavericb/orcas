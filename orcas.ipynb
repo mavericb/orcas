{
  "cells": [
    {
      "cell_type": "markdown",
      "metadata": {
        "id": "view-in-github",
        "colab_type": "text"
      },
      "source": [
        "<a href=\"https://colab.research.google.com/github/mavericb/orcas/blob/main/orcas.ipynb\" target=\"_parent\"><img src=\"https://colab.research.google.com/assets/colab-badge.svg\" alt=\"Open In Colab\"/></a>"
      ]
    },
    {
      "cell_type": "code",
      "execution_count": null,
      "id": "6478b98d-72cf-4a9d-81dc-346c610052b4",
      "metadata": {
        "id": "6478b98d-72cf-4a9d-81dc-346c610052b4"
      },
      "outputs": [],
      "source": [
        "pip install librosa==0.10.1\n",
        "pip install pandas\n",
        "pip install ipython\n",
        "pip install ipywidgets\n",
        "pip install --upgrade matplotlib==3.7.2\n",
        "#jerry's hot"
      ]
    },
    {
      "cell_type": "code",
      "execution_count": null,
      "id": "508190ce-0dfb-434b-8212-8eca4942a854",
      "metadata": {
        "colab": {
          "background_save": true
        },
        "id": "508190ce-0dfb-434b-8212-8eca4942a854"
      },
      "outputs": [],
      "source": [
        "import matplotlib.pyplot as plt\n",
        "import librosa.display\n",
        "import pandas as pd\n",
        "import datetime\n",
        "import IPython.display as ipd\n",
        "\n",
        "# Load audio file\n",
        "# In Jupyter, you'll need to know the path to your file ahead of time\n",
        "file = 'audio.mp3'\n",
        "data, sr = librosa.load(file)\n",
        "annotations = pd.DataFrame(columns=['Start', 'End', 'Annotation'])"
      ]
    },
    {
      "cell_type": "code",
      "execution_count": null,
      "id": "lncEOwFWKGIX",
      "metadata": {
        "id": "lncEOwFWKGIX"
      },
      "outputs": [],
      "source": [
        "# Play audio\n",
        "ipd.Audio(file)"
      ]
    },
    {
      "cell_type": "code",
      "execution_count": null,
      "id": "joVPFsUtKQ-a",
      "metadata": {
        "id": "joVPFsUtKQ-a"
      },
      "outputs": [],
      "source": [
        "# For the annotation part, you'll need to manually input the start and end times and the annotation text\n",
        "start = 1  # replace with your start time\n",
        "end = 2  # replace with your end time\n",
        "annotation = \"Your annotation\"  # replace with your annotation\n",
        "\n",
        "# Add new annotation to the list\n",
        "new_annotation = pd.DataFrame({'Start': [start], 'End': [end], 'Annotation': [annotation]})\n",
        "annotations = pd.concat([annotations, new_annotation], ignore_index=True)\n",
        "\n",
        "# Display waveform and add all annotations to the plot\n",
        "fig, ax = plt.subplots(figsize=(14, 5))\n",
        "librosa.display.waveshow(data, sr=sr, ax=ax)\n",
        "for index, row in annotations.iterrows():\n",
        "    ax.annotate(row['Annotation'], ((row['Start'] + row['End']) / 2, 0), bbox=dict(boxstyle='round,pad=0.5', fc='yellow', alpha=0.5))  # Adjust the position as needed\n",
        "    ax.fill_betweenx([-1, 1], row['Start'], row['End'], color='red', alpha=0.3)  # Color the annotated part\n",
        "\n",
        "plt.show()\n",
        "\n",
        "# Display annotations\n",
        "print(annotations)"
      ]
    },
    {
      "cell_type": "code",
      "execution_count": null,
      "id": "84a57c2d-2cf0-4423-bc6a-1a9406d5d85a",
      "metadata": {
        "id": "84a57c2d-2cf0-4423-bc6a-1a9406d5d85a"
      },
      "outputs": [],
      "source": [
        "# Export annotations\n",
        "timestamp = datetime.datetime.now().strftime(\"%Y%m%d-%H%M%S\")\n",
        "filename = f\"annotations_{file}_{timestamp}.csv\"\n",
        "annotations.to_csv(filename, index=False)\n",
        "print(f\"Annotations uploaded successfully! The file is saved as {filename}\")"
      ]
    }
  ],
  "metadata": {
    "colab": {
      "provenance": [],
      "include_colab_link": true
    },
    "kernelspec": {
      "display_name": "Python 3 (ipykernel)",
      "language": "python",
      "name": "python3"
    },
    "language_info": {
      "codemirror_mode": {
        "name": "ipython",
        "version": 3
      },
      "file_extension": ".py",
      "mimetype": "text/x-python",
      "name": "python",
      "nbconvert_exporter": "python",
      "pygments_lexer": "ipython3",
      "version": "3.9.12"
    }
  },
  "nbformat": 4,
  "nbformat_minor": 5
}