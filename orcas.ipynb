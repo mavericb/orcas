{
  "metadata": {
    "colab": {
      "provenance": []
    },
    "kernelspec": {
      "name": "python",
      "display_name": "Python (Pyodide)",
      "language": "python"
    },
    "language_info": {
      "codemirror_mode": {
        "name": "python",
        "version": 3
      },
      "file_extension": ".py",
      "mimetype": "text/x-python",
      "name": "python",
      "nbconvert_exporter": "python",
      "pygments_lexer": "ipython3",
      "version": "3.8"
    }
  },
  "nbformat_minor": 5,
  "nbformat": 4,
  "cells": [
    {
      "cell_type": "markdown",
      "source": "[Open in Colab](https://colab.research.google.com/github/mavericb/orcas/blob/main/orcas.ipynb)",
      "metadata": {},
      "id": "59e7d5bf-407f-4f42-9802-56e0b3ecfe4f"
    },
    {
      "cell_type": "code",
      "source": "pip install librosa==0.10.1\npip install pandas\npip install ipython\npip install ipywidgets\npip install --upgrade matplotlib==3.7.2",
      "metadata": {
        "id": "6478b98d-72cf-4a9d-81dc-346c610052b4"
      },
      "execution_count": null,
      "outputs": [],
      "id": "6478b98d-72cf-4a9d-81dc-346c610052b4"
    },
    {
      "cell_type": "code",
      "source": "import matplotlib.pyplot as plt\nimport librosa.display\nimport pandas as pd\nimport datetime\nimport IPython.display as ipd\n\n# Load audio file\n# In Jupyter, you'll need to know the path to your file ahead of time\nfile = 'audio.mp3'\ndata, sr = librosa.load(file)\nannotations = pd.DataFrame(columns=['Start', 'End', 'Annotation'])",
      "metadata": {
        "colab": {
          "background_save": true
        },
        "id": "508190ce-0dfb-434b-8212-8eca4942a854"
      },
      "execution_count": null,
      "outputs": [],
      "id": "508190ce-0dfb-434b-8212-8eca4942a854"
    },
    {
      "cell_type": "code",
      "source": "# Play audio\nipd.Audio(file)",
      "metadata": {
        "id": "lncEOwFWKGIX"
      },
      "execution_count": null,
      "outputs": [],
      "id": "lncEOwFWKGIX"
    },
    {
      "cell_type": "code",
      "source": "# For the annotation part, you'll need to manually input the start and end times and the annotation text\nstart = 1  # replace with your start time\nend = 2  # replace with your end time\nannotation = \"Your annotation\"  # replace with your annotation\n\n# Add new annotation to the list\nnew_annotation = pd.DataFrame({'Start': [start], 'End': [end], 'Annotation': [annotation]})\nannotations = pd.concat([annotations, new_annotation], ignore_index=True)\n\n# Display waveform and add all annotations to the plot\nfig, ax = plt.subplots(figsize=(14, 5))\nlibrosa.display.waveshow(data, sr=sr, ax=ax)\nfor index, row in annotations.iterrows():\n    ax.annotate(row['Annotation'], ((row['Start'] + row['End']) / 2, 0), bbox=dict(boxstyle='round,pad=0.5', fc='yellow', alpha=0.5))  # Adjust the position as needed\n    ax.fill_betweenx([-1, 1], row['Start'], row['End'], color='red', alpha=0.3)  # Color the annotated part\n\nplt.show()\n\n# Display annotations\nprint(annotations)",
      "metadata": {
        "id": "joVPFsUtKQ-a"
      },
      "execution_count": null,
      "outputs": [],
      "id": "joVPFsUtKQ-a"
    },
    {
      "cell_type": "code",
      "source": "# Export annotations\ntimestamp = datetime.datetime.now().strftime(\"%Y%m%d-%H%M%S\")\nfilename = f\"annotations_{file}_{timestamp}.csv\"\nannotations.to_csv(filename, index=False)\nprint(f\"Annotations uploaded successfully! The file is saved as {filename}\")",
      "metadata": {
        "id": "84a57c2d-2cf0-4423-bc6a-1a9406d5d85a",
        "outputId": "7d95de66-29fe-43fa-b50e-73b8024266f2"
      },
      "execution_count": null,
      "outputs": [],
      "id": "84a57c2d-2cf0-4423-bc6a-1a9406d5d85a"
    }
  ]
}